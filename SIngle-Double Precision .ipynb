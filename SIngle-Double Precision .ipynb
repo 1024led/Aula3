{
 "cells": [
  {
   "cell_type": "code",
   "execution_count": 7,
   "metadata": {
    "collapsed": false
   },
   "outputs": [
    {
     "name": "stdout",
     "output_type": "stream",
     "text": [
      "5/32\n"
     ]
    },
    {
     "data": {
      "text/plain": [
       "True"
      ]
     },
     "execution_count": 7,
     "metadata": {
     },
     "output_type": "execute_result"
    }
   ],
   "source": [
    "#CODIGO DE SINGLE PRECISION\n",
    "\n",
    "def funcao(entrada):\n",
    "    sinal = int(entrada[0])\n",
    "    expoente = int(entrada[1:9], 2)\n",
    "    #print(expoente)\n",
    "    numero = entrada[9:]\n",
    "    \n",
    "    resultado1 = ((-1) ** sinal) * (2**(expoente - 127))\n",
    "    #print(entrada[1:9])\n",
    "    #print(numero)                                                       \n",
    "    resultado2 = 0\n",
    "    for i in range(len(numero)):\n",
    "        len(numero)\n",
    "        #print(\"i = \", i)\n",
    "        #print(\"Indice = \", -(i) - 1)\n",
    "        #print(\"TESTe = \", numero[i])\n",
    "        #print(\"soma = \", int(numero[i]) * 2 ** (-(i) - 1))\n",
    "        resultado2 = resultado2 + (int(numero[i]) * 2 ** (-(i) - 1))\n",
    "\n",
    "    #print(resultado1)\n",
    "    #print(resultado2, \" ---\", 1 + resultado2)\n",
    "    resultado = resultado1 * (1 + resultado2)\n",
    "    print(resultado)\n",
    "                                   \n",
    "    return(resultado)\n",
    "\n",
    "\n",
    "funcao('00111110001000000000000000000000')\n",
    "\n",
    "5/32 == 0.15625\n",
    "\n",
    "\n"
   ]
  },
  {
   "cell_type": "code",
   "execution_count": 6,
   "metadata": {
    "collapsed": false
   },
   "outputs": [
    {
     "name": "stdout",
     "output_type": "stream",
     "text": [
      "-2\n"
     ]
    },
    {
     "data": {
      "text/plain": [
       "-2"
      ]
     },
     "execution_count": 6,
     "metadata": {
     },
     "output_type": "execute_result"
    }
   ],
   "source": [
    "#CODIGO DE DOUBLE PRECISION\n",
    "\n",
    "def funcao(entrada):\n",
    "    sinal = int(entrada[0])\n",
    "    expoente = int(entrada[1:12], 2)\n",
    "    #print(expoente)\n",
    "    numero = entrada[12:]\n",
    "    \n",
    "    resultado1 = ((-1) ** sinal) * (2**(expoente - 1023))\n",
    "    #print(entrada[1:9])\n",
    "    #print(numero)                                                       \n",
    "    resultado2 = 0\n",
    "    for i in range(len(numero)):\n",
    "        len(numero)\n",
    "        #print(\"i = \", i)\n",
    "        #print(\"Indice = \", -(i) - 1)\n",
    "        #print(\"TESTe = \", numero[i])\n",
    "        #print(\"soma = \", int(numero[i]) * 2 ** (-(i) - 1))\n",
    "        resultado2 = resultado2 + (int(numero[i]) * 2 ** (-(i) - 1))\n",
    "\n",
    "    #print(resultado1)\n",
    "    #print(resultado2, \" ---\", 1 + resultado2)\n",
    "    resultado = resultado1 * (1 + resultado2)\n",
    "    print(resultado)\n",
    "                                   \n",
    "    return(resultado)\n",
    "\n",
    "funcao('1100000000000000000000000000000000000000000000000000000000000000')\n"
   ]
  }
 ],
 "metadata": {
  "kernelspec": {
   "display_name": "SageMath (stable)",
   "name": "sagemath"
  }
 },
 "nbformat": 4,
 "nbformat_minor": 0
}