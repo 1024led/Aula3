{
 "cells": [
  {
   "cell_type": "code",
   "execution_count": 7,
   "metadata": {
    "collapsed": false
   },
   "outputs": [
    {
     "name": "stdout",
     "output_type": "stream",
     "text": [
      "Max half precision\n",
      "Ex3: 0 11110 1111111111 = 65504\n",
      "11110 => 30\n",
      "Expoente, 30 - 15\n",
      "(2 - 2**-10)*2**15 = 65504.0 \n",
      "\n",
      "0 01101 0101010101 = 0.333251953125 ≈ 1/3\n",
      "01101 => 13\n",
      "Expoente, 13 - 15\n",
      "(2 - 2**10)*2**-2 1.3330078125 \n",
      "\n"
     ]
    }
   ],
   "source": [
    "print('Max half precision')\n",
    "print('Ex3: 0 11110 1111111111 = 65504')\n",
    "print('11110 =>', int('11110',2))\n",
    "print('Expoente, 30 - 15')\n",
    "print('(2 - 2**-10)*2**15 =', (2 - 2**-10)*2**15, '\\n')\n",
    "\n",
    "\n",
    "print('0 01101 0101010101 = 0.333251953125 ≈ 1/3')\n",
    "print('01101 =>', int('01101',2))\n",
    "print('Expoente, 13 - 15')\n",
    "print(\"(2 - 2**10)*2**-2\", (-1)*0 * 2**(13-15) + 1  + 2 ** -10 + 2**-8 + 2**-6 + 2** -4 + 2** -2, '\\n')\n",
    "\n"
   ]
  },
  {
   "cell_type": "code",
   "execution_count": 33,
   "metadata": {
    "collapsed": false
   },
   "outputs": [
    {
     "name": "stdout",
     "output_type": "stream",
     "text": [
      "0\n",
      "13\n",
      "010101010\n",
      "010101010\n",
      "1.33203125\n"
     ]
    }
   ],
   "source": [
    "def funcao(entrada):\n",
    "    sinal = int(entrada[0])\n",
    "    expoente = int(entrada[1:6], 2)\n",
    "    numero = entrada[6:]\n",
    "    \n",
    "    resultado = ((-1) * sinal) + 2**(expoente - 15) * (1 + int(numero[0])*2**-1 + int(numero[1])*2**-2 + int(numero[2])*2**-3 + int(numero[3])*2**-4 + int(numero[4])*2**-5 + int(numero[5])*2**-6 + int(numero[6])*2**-7 + int(numero[7])*2**-8 + int(numero[8])*2**-9 + int(numero[9])*2**-10)\n",
    "    \n",
    "    return(resultado)\n",
    "\n",
    "entrada = input()\n",
    "funcao(entrada)   "
   ]
  },
  {
   "cell_type": "code",
   "execution_count": null,
   "metadata": {
    "collapsed": true
   },
   "outputs": [],
   "source": []
  }
 ],
 "metadata": {
  "kernelspec": {
   "display_name": "Python [default]",
   "language": "python",
   "name": "python3"
  },
  "language_info": {
   "codemirror_mode": {
    "name": "ipython",
    "version": 3
   },
   "file_extension": ".py",
   "mimetype": "text/x-python",
   "name": "python",
   "nbconvert_exporter": "python",
   "pygments_lexer": "ipython3",
   "version": "3.5.2"
  }
 },
 "nbformat": 4,
 "nbformat_minor": 1
}
